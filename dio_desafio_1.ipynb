{
  "nbformat": 4,
  "nbformat_minor": 0,
  "metadata": {
    "colab": {
      "provenance": [],
      "authorship_tag": "ABX9TyNZ166GeAHCDNlH4jjaZdIs",
      "include_colab_link": true
    },
    "kernelspec": {
      "name": "python3",
      "display_name": "Python 3"
    },
    "language_info": {
      "name": "python"
    }
  },
  "cells": [
    {
      "cell_type": "markdown",
      "metadata": {
        "id": "view-in-github",
        "colab_type": "text"
      },
      "source": [
        "<a href=\"https://colab.research.google.com/github/alessandrow19/desafio-dio1/blob/main/dio_desafio_1.ipynb\" target=\"_parent\"><img src=\"https://colab.research.google.com/assets/colab-badge.svg\" alt=\"Open In Colab\"/></a>"
      ]
    },
    {
      "cell_type": "code",
      "execution_count": null,
      "metadata": {
        "colab": {
          "base_uri": "https://localhost:8080/"
        },
        "id": "gH3uM592oBmO",
        "outputId": "aa0450ef-425d-4906-a08f-1a97a2f3ba3f"
      },
      "outputs": [
        {
          "output_type": "stream",
          "name": "stdout",
          "text": [
            "Requirement already satisfied: beautifulsoup4 in /usr/local/lib/python3.12/dist-packages (4.13.5)\n",
            "Requirement already satisfied: soupsieve>1.2 in /usr/local/lib/python3.12/dist-packages (from beautifulsoup4) (2.8)\n",
            "Requirement already satisfied: typing-extensions>=4.0.0 in /usr/local/lib/python3.12/dist-packages (from beautifulsoup4) (4.15.0)\n"
          ]
        }
      ],
      "source": [
        "!pip install beautifulsoup4"
      ]
    },
    {
      "cell_type": "code",
      "source": [
        "import requests\n",
        "from bs4 import BeautifulSoup\n",
        "import re\n",
        "\n",
        "def fetch_and_clean_text(url)->str:\n",
        "  try:\n",
        "      response = requests.get(url)\n",
        "      response.raise_for_status()\n",
        "      soup = BeautifulSoup(response.content, 'html.parser')\n",
        "      text = soup.get_text()\n",
        "\n",
        "      cleaned_text = re.sub(r'\\s+', ' ', text).strip()\n",
        "\n",
        "\n",
        "      article_container = soup.find('div', class_='c-article-base') or soup.find('article')\n",
        "      if article_container:\n",
        "          article_text = article_container.get_text()\n",
        "\n",
        "          cleaned_article_text = re.sub(r'\\s+', ' ', article_text).strip()\n",
        "          return cleaned_article_text\n",
        "      else:\n",
        "\n",
        "          return cleaned_text\n",
        "\n",
        "\n",
        "  except requests.exceptions.RequestException as e:\n",
        "      print(f\"Error fetching the URL: {e}\")\n",
        "  except Exception as e:\n",
        "      print(f\"An error occurred: {e}\")\n",
        "\n",
        "\n"
      ],
      "metadata": {
        "id": "wH1KHv9H6mVL"
      },
      "execution_count": null,
      "outputs": []
    },
    {
      "cell_type": "code",
      "source": [
        "import os\n",
        "from openai import AzureOpenAI\n",
        "from google.colab import userdata\n",
        "\n",
        "endpoint = \"https://dio-azure-desafio.openai.azure.com/\"\n",
        "model_name = \"o4-mini\"\n",
        "deployment = \"o4-mini\"\n",
        "\n",
        "# Get the subscription key from Colab's Secrets Manager\n",
        "subscription_key = userdata.get('AZURE_OPENAI_SUBSCRIPTION_KEY')\n",
        "api_version = \"2024-12-01-preview\"\n",
        "\n",
        "client = AzureOpenAI(\n",
        "    api_version=api_version,\n",
        "    azure_endpoint=endpoint,\n",
        "    api_key=subscription_key,\n",
        ")\n",
        "\n",
        "\n",
        "def generate_response(text, lang):\n",
        "\n",
        "   messages=[\n",
        "        {\n",
        "            \"role\": \"system\",\n",
        "            \"content\": \"Você é um especilista em traduzir textos \",\n",
        "        },\n",
        "        {\n",
        "            \"role\": \"user\",\n",
        "            \"content\": f\"traduza o {text} para {lang} e responda em formato markdown\",\n",
        "        }\n",
        "    ]\n",
        "\n",
        "\n",
        "   response = client.chat.completions.create(\n",
        "          messages=messages,\n",
        "          max_completion_tokens=10000,\n",
        "          model=deployment\n",
        "   )\n",
        "\n",
        "   print(response.choices[0].message.content)"
      ],
      "metadata": {
        "id": "hGbxR0kN1d1c"
      },
      "execution_count": null,
      "outputs": []
    },
    {
      "cell_type": "code",
      "source": [
        "url=userdata.get('URL')\n",
        "\n",
        "\n",
        "texto=fetch_and_clean_text(url)\n",
        "generate_response(texto, \"pt-br\")"
      ],
      "metadata": {
        "colab": {
          "base_uri": "https://localhost:8080/"
        },
        "id": "6xOQLqWB2Lel",
        "outputId": "a413046b-a0d9-4146-b1af-59572b607045"
      },
      "execution_count": null,
      "outputs": [
        {
          "output_type": "stream",
          "name": "stdout",
          "text": [
            "```markdown\n",
            "# Ben Halpern para a equipe DEV  \n",
            "**Publicado em 3 de outubro**\n",
            "\n",
            "# Pré-carregando o feed e a barra lateral da página inicial do DEV (e do Forem) para benefícios substanciais de performance  \n",
            "*#webperf #performance #frontend #webdev*\n",
            "\n",
            "Quando você visita a página inicial do dev.to, ela é armazenada em cache na edge para que seja entregue o mais rápido possível pelo servidor mais próximo. Isso é ótimo, mas essa entrega estática também impede que mostremos imediatamente seu feed e sua barra lateral personalizados, baseados nas tags e pessoas que você segue. Para obter essas informações, buscamos seu feed de forma assíncrona, e essa requisição vai até o banco de dados para carregar a resposta dinamicamente. Esse é um padrão comum, mas é irritante ficar olhando para uma tela de carregamento — e a espera muitas vezes era maior do que gostaríamos.\n",
            "\n",
            "Essa demora é causada por uma cascata de outros recursos que precisam ser carregados primeiro, como CSS, JavaScript e imagens.\n",
            "\n",
            "## Uma otimização simples\n",
            "\n",
            "Recentemente fizemos um ajuste para priorizar seu feed adicionando uma diretiva `preload` no topo da tag `<head>` da página inicial. Fica assim:\n",
            "\n",
            "```html\n",
            "<link rel=\"preload\" href=\"/stories/feed/?page=1&type_of=discover\" as=\"fetch\" crossorigin=\"same-origin\">\n",
            "```\n",
            "\n",
            "Essa linha simples instrui o navegador a priorizar esse endpoint em relação a outros recursos que, de outra forma, poderiam receber prioridade. Seja criterioso ao escolher quais recursos sinalizar para o navegador. Se tudo for importante, nada será importante — mas se você tem endpoints críticos para a experiência do usuário, ajude o navegador e diga o que ele deve priorizar!\n",
            "\n",
            "Vá à página inicial e atualize. Se lembrar de como era alguns dias atrás, deve perceber uma experiência mais ágil. Não ficará perfeito sempre, devido a pequenas variações, mas já é uma melhoria clara. Não fizemos medições detalhadas de antes e depois — mas os resultados são óbvios. O feed e a barra lateral carregam substancialmente mais rápido do que antes. Esses recursos críticos estão entre os primeiros a serem carregados, em vez de ficarem enterrados sob imagens que podem ser adiadas sem impactar negativamente a experiência do usuário.\n",
            "\n",
            "## Tudo é enviado para o Forem\n",
            "\n",
            "O DEV roda no código open source do Forem — e recentemente começamos a expandir as capacidades para reutilização máxima do software. Esperamos que isso permita mais auto-hospedagem no futuro e que todas essas melhorias estejam disponíveis em cada uma dessas instâncias. A auto-hospedagem ainda é um pouco complicada para adoção em larga escala e não conseguimos priorizar sua simplificação — mas, enquanto isso, lançamos os subforems. Em core.forem.com postamos principalmente pequenas atualizações sobre o projeto.\n",
            "\n",
            "Se você gerencia um projeto de software e está interessado em criar `seuprojeto.forem.com`, esse é um caso de uso que queremos apoiar. Preencha o formulário se tiver curiosidade.\n",
            "\n",
            "**Bom código!**\n",
            "```\n"
          ]
        }
      ]
    }
  ]
}