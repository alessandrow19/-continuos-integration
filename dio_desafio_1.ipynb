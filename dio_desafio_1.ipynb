{
  "nbformat": 4,
  "nbformat_minor": 0,
  "metadata": {
    "colab": {
      "provenance": [],
      "authorship_tag": "ABX9TyNMZG4X6068HCAPLSRe8pq8",
      "include_colab_link": true
    },
    "kernelspec": {
      "name": "python3",
      "display_name": "Python 3"
    },
    "language_info": {
      "name": "python"
    }
  },
  "cells": [
    {
      "cell_type": "markdown",
      "metadata": {
        "id": "view-in-github",
        "colab_type": "text"
      },
      "source": [
        "<a href=\"https://colab.research.google.com/github/alessandrow19/-continuos-integration/blob/main/dio_desafio_1.ipynb\" target=\"_parent\"><img src=\"https://colab.research.google.com/assets/colab-badge.svg\" alt=\"Open In Colab\"/></a>"
      ]
    },
    {
      "cell_type": "code",
      "execution_count": null,
      "metadata": {
        "colab": {
          "base_uri": "https://localhost:8080/"
        },
        "id": "gH3uM592oBmO",
        "outputId": "aa0450ef-425d-4906-a08f-1a97a2f3ba3f"
      },
      "outputs": [
        {
          "output_type": "stream",
          "name": "stdout",
          "text": [
            "Requirement already satisfied: beautifulsoup4 in /usr/local/lib/python3.12/dist-packages (4.13.5)\n",
            "Requirement already satisfied: soupsieve>1.2 in /usr/local/lib/python3.12/dist-packages (from beautifulsoup4) (2.8)\n",
            "Requirement already satisfied: typing-extensions>=4.0.0 in /usr/local/lib/python3.12/dist-packages (from beautifulsoup4) (4.15.0)\n"
          ]
        }
      ],
      "source": [
        "!pip install beautifulsoup4"
      ]
    },
    {
      "cell_type": "code",
      "source": [
        "import requests\n",
        "from bs4 import BeautifulSoup\n",
        "import re\n",
        "\n",
        "def fetch_and_clean_text(url)->str:\n",
        "  try:\n",
        "      response = requests.get(url)\n",
        "      response.raise_for_status()  # Raise an exception for bad status codes (4xx or 5xx)\n",
        "      soup = BeautifulSoup(response.content, 'html.parser')\n",
        "      text = soup.get_text()\n",
        "\n",
        "      # Remove excessive whitespace (spaces, tabs, newlines)\n",
        "      cleaned_text = re.sub(r'\\s+', ' ', text).strip()\n",
        "\n",
        "      # You might need more specific cleaning based on the actual output,\n",
        "      # for example, removing header/footer text that remains after get_text()\n",
        "      # print(cleaned_text)\n",
        "      # For a more refined approach, you could navigate the soup tree to find the main article content\n",
        "\n",
        "      # A more robust approach would be to find the main article container and extract text from there\n",
        "      # Let's try to find potential article containers\n",
        "      article_container = soup.find('div', class_='c-article-base') or soup.find('article')\n",
        "      if article_container:\n",
        "          article_text = article_container.get_text()\n",
        "          # Clean the article text\n",
        "          cleaned_article_text = re.sub(r'\\s+', ' ', article_text).strip()\n",
        "          return cleaned_article_text\n",
        "      else:\n",
        "          # Fallback to the previous cleaning if a specific article container is not found\n",
        "          return cleaned_text\n",
        "\n",
        "\n",
        "  except requests.exceptions.RequestException as e:\n",
        "      print(f\"Error fetching the URL: {e}\")\n",
        "  except Exception as e:\n",
        "      print(f\"An error occurred: {e}\")\n",
        "\n",
        "\n"
      ],
      "metadata": {
        "id": "wH1KHv9H6mVL"
      },
      "execution_count": null,
      "outputs": []
    },
    {
      "cell_type": "code",
      "source": [
        "import os\n",
        "from openai import AzureOpenAI\n",
        "from google.colab import userdata\n",
        "\n",
        "endpoint = \"https://dio-azure-desafio.openai.azure.com/\"\n",
        "model_name = \"o4-mini\"\n",
        "deployment = \"o4-mini\"\n",
        "\n",
        "# Get the subscription key from Colab's Secrets Manager\n",
        "subscription_key = userdata.get('AZURE_OPENAI_SUBSCRIPTION_KEY')\n",
        "api_version = \"2024-12-01-preview\"\n",
        "\n",
        "client = AzureOpenAI(\n",
        "    api_version=api_version,\n",
        "    azure_endpoint=endpoint,\n",
        "    api_key=subscription_key,\n",
        ")\n",
        "\n",
        "\n",
        "def generate_response(text, lang):\n",
        "\n",
        "   messages=[\n",
        "        {\n",
        "            \"role\": \"system\",\n",
        "            \"content\": \"Você é um especilista em traduzir textos \",\n",
        "        },\n",
        "        {\n",
        "            \"role\": \"user\",\n",
        "            \"content\": f\"traduza o {text} para {lang} e responda em formato markdown\",\n",
        "        }\n",
        "    ]\n",
        "\n",
        "\n",
        "   response = client.chat.completions.create(\n",
        "          messages=messages,\n",
        "          max_completion_tokens=10000,\n",
        "          model=deployment\n",
        "   )\n",
        "\n",
        "   print(response.choices[0].message.content)"
      ],
      "metadata": {
        "id": "hGbxR0kN1d1c"
      },
      "execution_count": null,
      "outputs": []
    },
    {
      "cell_type": "code",
      "source": [
        "url=userdata.get('URL')\n",
        "\n",
        "\n",
        "texto=fetch_and_clean_text(url)\n",
        "generate_response(texto, \"pt-br\")"
      ],
      "metadata": {
        "colab": {
          "base_uri": "https://localhost:8080/"
        },
        "id": "6xOQLqWB2Lel",
        "outputId": "a413046b-a0d9-4146-b1af-59572b607045"
      },
      "execution_count": null,
      "outputs": [
        {
          "output_type": "stream",
          "name": "stdout",
          "text": [
           
          ]
        }
      ]
    }
  ]
}
